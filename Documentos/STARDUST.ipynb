{
 "cells": [
  {
   "cell_type": "markdown",
   "metadata": {},
   "source": [
    "# Curso de Python STARDUST - Parte 2"
   ]
  },
  {
   "cell_type": "code",
   "execution_count": 1,
   "metadata": {},
   "outputs": [
    {
     "data": {
      "text/plain": [
       "10"
      ]
     },
     "execution_count": 1,
     "metadata": {},
     "output_type": "execute_result"
    }
   ],
   "source": [
    "5+5"
   ]
  },
  {
   "cell_type": "code",
   "execution_count": 2,
   "metadata": {},
   "outputs": [
    {
     "data": {
      "text/plain": [
       "3125"
      ]
     },
     "execution_count": 2,
     "metadata": {},
     "output_type": "execute_result"
    }
   ],
   "source": [
    "5**5"
   ]
  },
  {
   "cell_type": "code",
   "execution_count": 3,
   "metadata": {},
   "outputs": [
    {
     "name": "stdout",
     "output_type": "stream",
     "text": [
      "Olá, mundo!\n"
     ]
    }
   ],
   "source": [
    "print(\"Olá, mundo!\")"
   ]
  },
  {
   "cell_type": "code",
   "execution_count": 4,
   "metadata": {},
   "outputs": [
    {
     "name": "stdout",
     "output_type": "stream",
     "text": [
      "25\n"
     ]
    }
   ],
   "source": [
    "x = 5\n",
    "y = 15\n",
    "z = 2*x + y\n",
    "print(z)"
   ]
  },
  {
   "cell_type": "markdown",
   "metadata": {},
   "source": [
    "# Título"
   ]
  },
  {
   "cell_type": "markdown",
   "metadata": {},
   "source": [
    "## subtítulo"
   ]
  },
  {
   "cell_type": "markdown",
   "metadata": {},
   "source": [
    "fmglksngfearngleangfjafnglangjagnalnhf~da"
   ]
  },
  {
   "cell_type": "markdown",
   "metadata": {},
   "source": [
    "asdsadafdafa"
   ]
  },
  {
   "cell_type": "markdown",
   "metadata": {},
   "source": [
    "$$ \\dot{x} = v $$\n",
    "$$ \\dfrac{dx}{dt} = v $$\n",
    "Equações legais!"
   ]
  },
  {
   "cell_type": "markdown",
   "metadata": {},
   "source": [
    "# Importar bibliotecas"
   ]
  },
  {
   "cell_type": "markdown",
   "metadata": {},
   "source": [
    "Queremos calcular $ \\cos (60^{\\circ}) $"
   ]
  },
  {
   "cell_type": "code",
   "execution_count": 5,
   "metadata": {},
   "outputs": [],
   "source": [
    "from numpy import cos"
   ]
  },
  {
   "cell_type": "code",
   "execution_count": 6,
   "metadata": {},
   "outputs": [
    {
     "data": {
      "text/plain": [
       "0.28366218546322625"
      ]
     },
     "execution_count": 6,
     "metadata": {},
     "output_type": "execute_result"
    }
   ],
   "source": [
    "cos(5)"
   ]
  },
  {
   "cell_type": "code",
   "execution_count": 7,
   "metadata": {},
   "outputs": [
    {
     "data": {
      "text/plain": [
       "-0.9524129804151563"
      ]
     },
     "execution_count": 7,
     "metadata": {},
     "output_type": "execute_result"
    }
   ],
   "source": [
    "cos(60)"
   ]
  },
  {
   "cell_type": "code",
   "execution_count": 8,
   "metadata": {},
   "outputs": [],
   "source": [
    "# from numpy import *\n",
    "import numpy as np"
   ]
  },
  {
   "cell_type": "code",
   "execution_count": 9,
   "metadata": {},
   "outputs": [
    {
     "data": {
      "text/plain": [
       "0.28366218546322625"
      ]
     },
     "execution_count": 9,
     "metadata": {},
     "output_type": "execute_result"
    }
   ],
   "source": [
    "np.cos(5)"
   ]
  },
  {
   "cell_type": "code",
   "execution_count": 10,
   "metadata": {},
   "outputs": [
    {
     "data": {
      "text/plain": [
       "3.141592653589793"
      ]
     },
     "execution_count": 10,
     "metadata": {},
     "output_type": "execute_result"
    }
   ],
   "source": [
    "np.pi"
   ]
  },
  {
   "cell_type": "code",
   "execution_count": 11,
   "metadata": {},
   "outputs": [
    {
     "data": {
      "text/plain": [
       "2.718281828459045"
      ]
     },
     "execution_count": 11,
     "metadata": {},
     "output_type": "execute_result"
    }
   ],
   "source": [
    "np.e"
   ]
  },
  {
   "cell_type": "code",
   "execution_count": 12,
   "metadata": {},
   "outputs": [
    {
     "name": "stdout",
     "output_type": "stream",
     "text": [
      "0.5000000000000001\n"
     ]
    }
   ],
   "source": [
    "resp1 = np.cos(60*np.pi/180)\n",
    "print(resp1)"
   ]
  },
  {
   "cell_type": "markdown",
   "metadata": {},
   "source": [
    "Queremos obter todos os cossenos entre 0 e 360°"
   ]
  },
  {
   "cell_type": "code",
   "execution_count": 13,
   "metadata": {},
   "outputs": [
    {
     "data": {
      "text/plain": [
       "1.0471975511965976"
      ]
     },
     "execution_count": 13,
     "metadata": {},
     "output_type": "execute_result"
    }
   ],
   "source": [
    "np.radians(60)"
   ]
  },
  {
   "cell_type": "code",
   "execution_count": 14,
   "metadata": {},
   "outputs": [
    {
     "data": {
      "text/plain": [
       "0.5000000000000001"
      ]
     },
     "execution_count": 14,
     "metadata": {},
     "output_type": "execute_result"
    }
   ],
   "source": [
    "resp1 = np.cos(np.radians(60))\n",
    "resp1"
   ]
  },
  {
   "cell_type": "code",
   "execution_count": 15,
   "metadata": {},
   "outputs": [
    {
     "data": {
      "text/plain": [
       "array([10.        , 10.1010101 , 10.2020202 , 10.3030303 , 10.4040404 ,\n",
       "       10.50505051, 10.60606061, 10.70707071, 10.80808081, 10.90909091,\n",
       "       11.01010101, 11.11111111, 11.21212121, 11.31313131, 11.41414141,\n",
       "       11.51515152, 11.61616162, 11.71717172, 11.81818182, 11.91919192,\n",
       "       12.02020202, 12.12121212, 12.22222222, 12.32323232, 12.42424242,\n",
       "       12.52525253, 12.62626263, 12.72727273, 12.82828283, 12.92929293,\n",
       "       13.03030303, 13.13131313, 13.23232323, 13.33333333, 13.43434343,\n",
       "       13.53535354, 13.63636364, 13.73737374, 13.83838384, 13.93939394,\n",
       "       14.04040404, 14.14141414, 14.24242424, 14.34343434, 14.44444444,\n",
       "       14.54545455, 14.64646465, 14.74747475, 14.84848485, 14.94949495,\n",
       "       15.05050505, 15.15151515, 15.25252525, 15.35353535, 15.45454545,\n",
       "       15.55555556, 15.65656566, 15.75757576, 15.85858586, 15.95959596,\n",
       "       16.06060606, 16.16161616, 16.26262626, 16.36363636, 16.46464646,\n",
       "       16.56565657, 16.66666667, 16.76767677, 16.86868687, 16.96969697,\n",
       "       17.07070707, 17.17171717, 17.27272727, 17.37373737, 17.47474747,\n",
       "       17.57575758, 17.67676768, 17.77777778, 17.87878788, 17.97979798,\n",
       "       18.08080808, 18.18181818, 18.28282828, 18.38383838, 18.48484848,\n",
       "       18.58585859, 18.68686869, 18.78787879, 18.88888889, 18.98989899,\n",
       "       19.09090909, 19.19191919, 19.29292929, 19.39393939, 19.49494949,\n",
       "       19.5959596 , 19.6969697 , 19.7979798 , 19.8989899 , 20.        ])"
      ]
     },
     "execution_count": 15,
     "metadata": {},
     "output_type": "execute_result"
    }
   ],
   "source": [
    "np.linspace(10,20,100)"
   ]
  },
  {
   "cell_type": "code",
   "execution_count": 16,
   "metadata": {},
   "outputs": [],
   "source": [
    "x = np.linspace(0,360,50)"
   ]
  },
  {
   "cell_type": "code",
   "execution_count": 17,
   "metadata": {},
   "outputs": [
    {
     "name": "stdout",
     "output_type": "stream",
     "text": [
      "[  0.           7.34693878  14.69387755  22.04081633  29.3877551\n",
      "  36.73469388  44.08163265  51.42857143  58.7755102   66.12244898\n",
      "  73.46938776  80.81632653  88.16326531  95.51020408 102.85714286\n",
      " 110.20408163 117.55102041 124.89795918 132.24489796 139.59183673\n",
      " 146.93877551 154.28571429 161.63265306 168.97959184 176.32653061\n",
      " 183.67346939 191.02040816 198.36734694 205.71428571 213.06122449\n",
      " 220.40816327 227.75510204 235.10204082 242.44897959 249.79591837\n",
      " 257.14285714 264.48979592 271.83673469 279.18367347 286.53061224\n",
      " 293.87755102 301.2244898  308.57142857 315.91836735 323.26530612\n",
      " 330.6122449  337.95918367 345.30612245 352.65306122 360.        ]\n"
     ]
    }
   ],
   "source": [
    "print(x)"
   ]
  },
  {
   "cell_type": "code",
   "execution_count": 18,
   "metadata": {},
   "outputs": [
    {
     "data": {
      "text/plain": [
       "3.142"
      ]
     },
     "execution_count": 18,
     "metadata": {},
     "output_type": "execute_result"
    }
   ],
   "source": [
    "round(np.pi,3)"
   ]
  },
  {
   "cell_type": "markdown",
   "metadata": {},
   "source": [
    "$$ y = \\cos (x) $$"
   ]
  },
  {
   "cell_type": "code",
   "execution_count": 19,
   "metadata": {},
   "outputs": [],
   "source": [
    "y = np.cos(np.radians(x))"
   ]
  },
  {
   "cell_type": "code",
   "execution_count": 20,
   "metadata": {},
   "outputs": [
    {
     "name": "stdout",
     "output_type": "stream",
     "text": [
      "[ 1.          0.99179001  0.96729486  0.92691676  0.8713187   0.80141362\n",
      "  0.71834935  0.6234898   0.51839257  0.40478334  0.28452759  0.1595999\n",
      "  0.03205158 -0.09602303 -0.22252093 -0.34536505 -0.46253829 -0.57211666\n",
      " -0.67230089 -0.76144596 -0.8380881  -0.90096887 -0.94905575 -0.98155916\n",
      " -0.99794539 -0.99794539 -0.98155916 -0.94905575 -0.90096887 -0.8380881\n",
      " -0.76144596 -0.67230089 -0.57211666 -0.46253829 -0.34536505 -0.22252093\n",
      " -0.09602303  0.03205158  0.1595999   0.28452759  0.40478334  0.51839257\n",
      "  0.6234898   0.71834935  0.80141362  0.8713187   0.92691676  0.96729486\n",
      "  0.99179001  1.        ]\n"
     ]
    }
   ],
   "source": [
    "print(y)"
   ]
  },
  {
   "cell_type": "code",
   "execution_count": 21,
   "metadata": {},
   "outputs": [],
   "source": [
    "import matplotlib.pyplot as plt\n",
    "plt.rcParams['figure.figsize']=(6,4)\n",
    "plt.rcParams['figure.dpi'] = 150"
   ]
  },
  {
   "cell_type": "code",
   "execution_count": 22,
   "metadata": {},
   "outputs": [
    {
     "data": {
      "image/png": "[encoded data removed]",
      "text/plain": [
       "<Figure size 900x600 with 1 Axes>"
      ]
     },
     "metadata": {
      "needs_background": "light"
     },
     "output_type": "display_data"
    }
   ],
   "source": [
    "plt.figure()\n",
    "plt.plot(x,y,'ro')\n",
    "plt.xlabel('x(Graus)')\n",
    "plt.ylabel('cos(x)')\n",
    "plt.title('Gráfico 1')\n",
    "plt.legend(['x'])\n",
    "plt.grid(True)"
   ]
  },
  {
   "cell_type": "code",
   "execution_count": 23,
   "metadata": {},
   "outputs": [
    {
     "data": {
      "text/plain": [
       "array([ 73.46938776,  80.81632653,  88.16326531,  95.51020408,\n",
       "       102.85714286, 110.20408163, 117.55102041, 124.89795918,\n",
       "       132.24489796, 139.59183673, 146.93877551, 154.28571429,\n",
       "       161.63265306, 168.97959184, 176.32653061, 183.67346939,\n",
       "       191.02040816, 198.36734694, 205.71428571, 213.06122449])"
      ]
     },
     "execution_count": 23,
     "metadata": {},
     "output_type": "execute_result"
    }
   ],
   "source": [
    "x[10:30]"
   ]
  },
  {
   "cell_type": "markdown",
   "metadata": {},
   "source": [
    "# Álgebra Linear"
   ]
  },
  {
   "cell_type": "code",
   "execution_count": 24,
   "metadata": {},
   "outputs": [
    {
     "data": {
      "text/plain": [
       "array([   1,    2,    4,   56, 7687,  485])"
      ]
     },
     "execution_count": 24,
     "metadata": {},
     "output_type": "execute_result"
    }
   ],
   "source": [
    "a = np.array([1,2,4,56,7687,485])\n",
    "a"
   ]
  },
  {
   "cell_type": "code",
   "execution_count": 25,
   "metadata": {},
   "outputs": [
    {
     "data": {
      "text/plain": [
       "2"
      ]
     },
     "execution_count": 25,
     "metadata": {},
     "output_type": "execute_result"
    }
   ],
   "source": [
    "a[1]"
   ]
  },
  {
   "cell_type": "code",
   "execution_count": 26,
   "metadata": {},
   "outputs": [
    {
     "name": "stdout",
     "output_type": "stream",
     "text": [
      "[[5 3 1]\n",
      " [3 8 9]\n",
      " [1 4 7]]\n"
     ]
    }
   ],
   "source": [
    "A = np.matrix([[5,3,1],[3,8,9],[1,4,7]])\n",
    "print(A)"
   ]
  },
  {
   "cell_type": "code",
   "execution_count": 27,
   "metadata": {},
   "outputs": [
    {
     "data": {
      "text/plain": [
       "array([[0., 0., 0.],\n",
       "       [0., 0., 0.],\n",
       "       [0., 0., 0.]])"
      ]
     },
     "execution_count": 27,
     "metadata": {},
     "output_type": "execute_result"
    }
   ],
   "source": [
    "np.zeros((3,3))"
   ]
  },
  {
   "cell_type": "code",
   "execution_count": 28,
   "metadata": {},
   "outputs": [
    {
     "data": {
      "text/plain": [
       "array([[1., 0., 0.],\n",
       "       [0., 1., 0.],\n",
       "       [0., 0., 1.]])"
      ]
     },
     "execution_count": 28,
     "metadata": {},
     "output_type": "execute_result"
    }
   ],
   "source": [
    "np.eye(3)"
   ]
  },
  {
   "cell_type": "code",
   "execution_count": 29,
   "metadata": {},
   "outputs": [
    {
     "data": {
      "text/plain": [
       "array([[1., 1., 1.],\n",
       "       [1., 1., 1.],\n",
       "       [1., 1., 1.]])"
      ]
     },
     "execution_count": 29,
     "metadata": {},
     "output_type": "execute_result"
    }
   ],
   "source": [
    "np.ones((3,3))"
   ]
  },
  {
   "cell_type": "code",
   "execution_count": 30,
   "metadata": {},
   "outputs": [
    {
     "data": {
      "text/plain": [
       "matrix([[5],\n",
       "        [4],\n",
       "        [3]])"
      ]
     },
     "execution_count": 30,
     "metadata": {},
     "output_type": "execute_result"
    }
   ],
   "source": [
    "v = np.matrix([[5],[4],[3]])\n",
    "v"
   ]
  },
  {
   "cell_type": "code",
   "execution_count": 31,
   "metadata": {},
   "outputs": [
    {
     "data": {
      "text/plain": [
       "matrix([[40],\n",
       "        [74],\n",
       "        [42]])"
      ]
     },
     "execution_count": 31,
     "metadata": {},
     "output_type": "execute_result"
    }
   ],
   "source": [
    "np.dot(A,v)"
   ]
  },
  {
   "cell_type": "code",
   "execution_count": 32,
   "metadata": {},
   "outputs": [
    {
     "data": {
      "text/plain": [
       "matrix([[40],\n",
       "        [74],\n",
       "        [42]])"
      ]
     },
     "execution_count": 32,
     "metadata": {},
     "output_type": "execute_result"
    }
   ],
   "source": [
    "A.dot(v)"
   ]
  },
  {
   "cell_type": "code",
   "execution_count": 33,
   "metadata": {},
   "outputs": [
    {
     "data": {
      "text/plain": [
       "matrix([[40],\n",
       "        [74],\n",
       "        [42]])"
      ]
     },
     "execution_count": 33,
     "metadata": {},
     "output_type": "execute_result"
    }
   ],
   "source": [
    "r = A.dot(v)\n",
    "r"
   ]
  },
  {
   "cell_type": "code",
   "execution_count": 34,
   "metadata": {},
   "outputs": [
    {
     "data": {
      "text/plain": [
       "matrix([[ 0.29411765, -0.25      ,  0.27941176],\n",
       "        [-0.17647059,  0.5       , -0.61764706],\n",
       "        [ 0.05882353, -0.25      ,  0.45588235]])"
      ]
     },
     "execution_count": 34,
     "metadata": {},
     "output_type": "execute_result"
    }
   ],
   "source": [
    "Ainv = np.linalg.inv(A)\n",
    "Ainv"
   ]
  },
  {
   "cell_type": "code",
   "execution_count": 35,
   "metadata": {},
   "outputs": [
    {
     "data": {
      "text/plain": [
       "matrix([[5.],\n",
       "        [4.],\n",
       "        [3.]])"
      ]
     },
     "execution_count": 35,
     "metadata": {},
     "output_type": "execute_result"
    }
   ],
   "source": [
    "np.dot(Ainv,r)"
   ]
  },
  {
   "cell_type": "markdown",
   "metadata": {},
   "source": [
    "# Sympy"
   ]
  },
  {
   "cell_type": "code",
   "execution_count": 36,
   "metadata": {},
   "outputs": [],
   "source": [
    "import sympy as sy"
   ]
  },
  {
   "cell_type": "code",
   "execution_count": 37,
   "metadata": {},
   "outputs": [],
   "source": [
    "x = sy.symbols('x')"
   ]
  },
  {
   "cell_type": "code",
   "execution_count": 38,
   "metadata": {},
   "outputs": [
    {
     "data": {
      "text/latex": [
       "$\\displaystyle \\cos{\\left(x \\right)}$"
      ],
      "text/plain": [
       "cos(x)"
      ]
     },
     "execution_count": 38,
     "metadata": {},
     "output_type": "execute_result"
    }
   ],
   "source": [
    "y = sy.cos(x)\n",
    "y"
   ]
  },
  {
   "cell_type": "code",
   "execution_count": 39,
   "metadata": {},
   "outputs": [
    {
     "data": {
      "text/latex": [
       "$\\displaystyle \\theta_{r}$"
      ],
      "text/plain": [
       "theta_r"
      ]
     },
     "execution_count": 39,
     "metadata": {},
     "output_type": "execute_result"
    }
   ],
   "source": [
    "theta_r = sy.symbols('theta_r')\n",
    "theta_r"
   ]
  },
  {
   "cell_type": "code",
   "execution_count": 40,
   "metadata": {},
   "outputs": [
    {
     "data": {
      "text/latex": [
       "$\\displaystyle - \\sin{\\left(x \\right)}$"
      ],
      "text/plain": [
       "-sin(x)"
      ]
     },
     "execution_count": 40,
     "metadata": {},
     "output_type": "execute_result"
    }
   ],
   "source": [
    "sy.diff(y,x)"
   ]
  },
  {
   "cell_type": "code",
   "execution_count": 41,
   "metadata": {},
   "outputs": [],
   "source": [
    "y2 = x**2 + 3*x + 5"
   ]
  },
  {
   "cell_type": "code",
   "execution_count": 42,
   "metadata": {},
   "outputs": [
    {
     "data": {
      "text/latex": [
       "$\\displaystyle 2 x + 3$"
      ],
      "text/plain": [
       "2*x + 3"
      ]
     },
     "execution_count": 42,
     "metadata": {},
     "output_type": "execute_result"
    }
   ],
   "source": [
    "dy = sy.diff(y2)\n",
    "dy"
   ]
  },
  {
   "cell_type": "code",
   "execution_count": 43,
   "metadata": {},
   "outputs": [
    {
     "data": {
      "text/latex": [
       "$\\displaystyle x^{2} + 3 x$"
      ],
      "text/plain": [
       "x**2 + 3*x"
      ]
     },
     "execution_count": 43,
     "metadata": {},
     "output_type": "execute_result"
    }
   ],
   "source": [
    "sy.integrate(dy,x)"
   ]
  },
  {
   "cell_type": "code",
   "execution_count": 44,
   "metadata": {},
   "outputs": [
    {
     "data": {
      "text/latex": [
       "$\\displaystyle 40$"
      ],
      "text/plain": [
       "40"
      ]
     },
     "execution_count": 44,
     "metadata": {},
     "output_type": "execute_result"
    }
   ],
   "source": [
    "sy.integrate(dy,(x,0,5))"
   ]
  },
  {
   "cell_type": "code",
   "execution_count": 45,
   "metadata": {},
   "outputs": [],
   "source": [
    "z,k = sy.symbols('z k')"
   ]
  },
  {
   "cell_type": "code",
   "execution_count": 46,
   "metadata": {},
   "outputs": [
    {
     "data": {
      "text/latex": [
       "$\\displaystyle 3 k^{2} + 5 x^{3} + \\cos{\\left(z \\right)}$"
      ],
      "text/plain": [
       "3*k**2 + 5*x**3 + cos(z)"
      ]
     },
     "execution_count": 46,
     "metadata": {},
     "output_type": "execute_result"
    }
   ],
   "source": [
    "yp = 5*x**3 + 3*k**2 + sy.cos(z)\n",
    "yp"
   ]
  },
  {
   "cell_type": "code",
   "execution_count": 47,
   "metadata": {},
   "outputs": [
    {
     "data": {
      "text/latex": [
       "$\\displaystyle 6 k$"
      ],
      "text/plain": [
       "6*k"
      ]
     },
     "execution_count": 47,
     "metadata": {},
     "output_type": "execute_result"
    }
   ],
   "source": [
    "sy.diff(yp,k)"
   ]
  },
  {
   "cell_type": "code",
   "execution_count": 48,
   "metadata": {},
   "outputs": [
    {
     "data": {
      "text/latex": [
       "$\\displaystyle 100 \\cos{\\left(z \\right)} + 127500$"
      ],
      "text/plain": [
       "100*cos(z) + 127500"
      ]
     },
     "execution_count": 48,
     "metadata": {},
     "output_type": "execute_result"
    }
   ],
   "source": [
    "sy.integrate(yp,(x,0,10),(k,-5,5))"
   ]
  },
  {
   "cell_type": "code",
   "execution_count": 49,
   "metadata": {},
   "outputs": [
    {
     "data": {
      "text/latex": [
       "$\\displaystyle 3 k^{2} + 5 x^{3} + \\cos{\\left(z \\right)}$"
      ],
      "text/plain": [
       "3*k**2 + 5*x**3 + cos(z)"
      ]
     },
     "execution_count": 49,
     "metadata": {},
     "output_type": "execute_result"
    }
   ],
   "source": [
    "yp"
   ]
  },
  {
   "cell_type": "code",
   "execution_count": 50,
   "metadata": {},
   "outputs": [],
   "source": [
    "dic = {x:10,k:30,z:40}"
   ]
  },
  {
   "cell_type": "code",
   "execution_count": 51,
   "metadata": {},
   "outputs": [
    {
     "data": {
      "text/latex": [
       "$\\displaystyle \\cos{\\left(40 \\right)} + 7700$"
      ],
      "text/plain": [
       "cos(40) + 7700"
      ]
     },
     "execution_count": 51,
     "metadata": {},
     "output_type": "execute_result"
    }
   ],
   "source": [
    "ypnum = yp.subs(dic)\n",
    "ypnum"
   ]
  },
  {
   "cell_type": "code",
   "execution_count": 52,
   "metadata": {},
   "outputs": [
    {
     "data": {
      "text/latex": [
       "$\\displaystyle 7699.33306193835$"
      ],
      "text/plain": [
       "7699.33306193835"
      ]
     },
     "execution_count": 52,
     "metadata": {},
     "output_type": "execute_result"
    }
   ],
   "source": [
    "ypnum.evalf()"
   ]
  },
  {
   "cell_type": "markdown",
   "metadata": {},
   "source": [
    "$$ k = 5x + 3 $$\n",
    "$$ 5X + 3 - k = 0 $$"
   ]
  },
  {
   "cell_type": "code",
   "execution_count": 53,
   "metadata": {},
   "outputs": [],
   "source": [
    "Eq1 = 5*x + 3 - k "
   ]
  },
  {
   "cell_type": "code",
   "execution_count": 54,
   "metadata": {},
   "outputs": [
    {
     "data": {
      "text/plain": [
       "[5*x + 3]"
      ]
     },
     "execution_count": 54,
     "metadata": {},
     "output_type": "execute_result"
    }
   ],
   "source": [
    "sy.solve(Eq1,k)"
   ]
  },
  {
   "cell_type": "code",
   "execution_count": 55,
   "metadata": {},
   "outputs": [
    {
     "data": {
      "text/latex": [
       "$\\displaystyle x^{2} + 5 x - 7$"
      ],
      "text/plain": [
       "x**2 + 5*x - 7"
      ]
     },
     "execution_count": 55,
     "metadata": {},
     "output_type": "execute_result"
    }
   ],
   "source": [
    "Eq2 = x**2 + 5*x - 7\n",
    "Eq2"
   ]
  },
  {
   "cell_type": "code",
   "execution_count": 56,
   "metadata": {},
   "outputs": [],
   "source": [
    "Sol = sy.solve(Eq2,x)"
   ]
  },
  {
   "cell_type": "code",
   "execution_count": 57,
   "metadata": {},
   "outputs": [
    {
     "data": {
      "text/latex": [
       "$\\displaystyle - \\frac{5}{2} + \\frac{\\sqrt{53}}{2}$"
      ],
      "text/plain": [
       "-5/2 + sqrt(53)/2"
      ]
     },
     "execution_count": 57,
     "metadata": {},
     "output_type": "execute_result"
    }
   ],
   "source": [
    "Sol[0]"
   ]
  },
  {
   "cell_type": "code",
   "execution_count": 58,
   "metadata": {},
   "outputs": [
    {
     "data": {
      "text/latex": [
       "$\\displaystyle - \\frac{\\sqrt{53}}{2} - \\frac{5}{2}$"
      ],
      "text/plain": [
       "-sqrt(53)/2 - 5/2"
      ]
     },
     "execution_count": 58,
     "metadata": {},
     "output_type": "execute_result"
    }
   ],
   "source": [
    "Sol[1]"
   ]
  },
  {
   "cell_type": "markdown",
   "metadata": {},
   "source": [
    "# Resistência dos Materiais"
   ]
  },
  {
   "cell_type": "code",
   "execution_count": 59,
   "metadata": {},
   "outputs": [
    {
     "data": {
      "image/svg+xml": [
       "<svg xmlns:dc=\"http://purl.org/dc/elements/1.1/\" xmlns:cc=\"http://creativecommons.org/ns#\" xmlns:rdf=\"http://www.w3.org/1999/02/22-rdf-syntax-ns#\" xmlns:svg=\"http://www.w3.org/2000/svg\" xmlns=\"http://www.w3.org/2000/svg\" xmlns:sodipodi=\"http://sodipodi.sourceforge.net/DTD/sodipodi-0.dtd\" xmlns:inkscape=\"http://www.inkscape.org/namespaces/inkscape\" width=\"115.26229mm\" height=\"79.219254mm\" viewBox=\"0 0 115.26229 79.219253\" version=\"1.1\" id=\"svg8\" inkscape:version=\"1.0.1 (3bc2e813f5, 2020-09-07)\" sodipodi:docname=\"viga1.svg\">\n",
       "  <defs id=\"defs2\">\n",
       "    <marker style=\"overflow:visible\" id=\"marker1819\" refX=\"0\" refY=\"0\" orient=\"auto\" inkscape:stockid=\"Arrow2Lstart\" inkscape:isstock=\"true\">\n",
       "      <path transform=\"matrix(1.1,0,0,1.1,1.1,0)\" d=\"M 8.7185878,4.0337352 -2.2072895,0.01601326 8.7185884,-4.0017078 c -1.7454984,2.3720609 -1.7354408,5.6174519 -6e-7,8.035443 z\" style=\"fill:#000000;fill-opacity:1;fill-rule:evenodd;stroke:#000000;stroke-width:0.625;stroke-linejoin:round;stroke-opacity:1\" id=\"path1817\"/>\n",
       "    </marker>\n",
       "    <marker style=\"overflow:visible\" id=\"marker1737\" refX=\"0\" refY=\"0\" orient=\"auto\" inkscape:stockid=\"Arrow2Lend\" inkscape:isstock=\"true\">\n",
       "      <path transform=\"matrix(-1.1,0,0,-1.1,-1.1,0)\" d=\"M 8.7185878,4.0337352 -2.2072895,0.01601326 8.7185884,-4.0017078 c -1.7454984,2.3720609 -1.7354408,5.6174519 -6e-7,8.035443 z\" style=\"fill:#000000;fill-opacity:1;fill-rule:evenodd;stroke:#000000;stroke-width:0.625;stroke-linejoin:round;stroke-opacity:1\" id=\"path1735\"/>\n",
       "    </marker>\n",
       "    <marker style=\"overflow:visible\" id=\"marker1647\" refX=\"0\" refY=\"0\" orient=\"auto\" inkscape:stockid=\"Arrow2Lstart\" inkscape:isstock=\"true\" inkscape:collect=\"always\">\n",
       "      <path transform=\"matrix(1.1,0,0,1.1,1.1,0)\" d=\"M 8.7185878,4.0337352 -2.2072895,0.01601326 8.7185884,-4.0017078 c -1.7454984,2.3720609 -1.7354408,5.6174519 -6e-7,8.035443 z\" style=\"fill:#000000;fill-opacity:1;fill-rule:evenodd;stroke:#000000;stroke-width:0.625;stroke-linejoin:round;stroke-opacity:1\" id=\"path1645\"/>\n",
       "    </marker>\n",
       "    <marker style=\"overflow:visible\" id=\"marker1577\" refX=\"0\" refY=\"0\" orient=\"auto\" inkscape:stockid=\"Arrow2Lend\" inkscape:isstock=\"true\" inkscape:collect=\"always\">\n",
       "      <path transform=\"matrix(-1.1,0,0,-1.1,-1.1,0)\" d=\"M 8.7185878,4.0337352 -2.2072895,0.01601326 8.7185884,-4.0017078 c -1.7454984,2.3720609 -1.7354408,5.6174519 -6e-7,8.035443 z\" style=\"fill:#000000;fill-opacity:1;fill-rule:evenodd;stroke:#000000;stroke-width:0.625;stroke-linejoin:round;stroke-opacity:1\" id=\"path1575\"/>\n",
       "    </marker>\n",
       "    <marker style=\"overflow:visible\" id=\"marker1487\" refX=\"0\" refY=\"0\" orient=\"auto\" inkscape:stockid=\"Arrow2Lend\" inkscape:isstock=\"true\" inkscape:collect=\"always\">\n",
       "      <path transform=\"matrix(-1.1,0,0,-1.1,-1.1,0)\" d=\"M 8.7185878,4.0337352 -2.2072895,0.01601326 8.7185884,-4.0017078 c -1.7454984,2.3720609 -1.7354408,5.6174519 -6e-7,8.035443 z\" style=\"fill:#000000;fill-opacity:1;fill-rule:evenodd;stroke:#000000;stroke-width:0.625;stroke-linejoin:round;stroke-opacity:1\" id=\"path1485\"/>\n",
       "    </marker>\n",
       "    <marker style=\"overflow:visible\" id=\"Arrow2Lstart\" refX=\"0\" refY=\"0\" orient=\"auto\" inkscape:stockid=\"Arrow2Lstart\" inkscape:isstock=\"true\" inkscape:collect=\"always\">\n",
       "      <path transform=\"matrix(1.1,0,0,1.1,1.1,0)\" d=\"M 8.7185878,4.0337352 -2.2072895,0.01601326 8.7185884,-4.0017078 c -1.7454984,2.3720609 -1.7354408,5.6174519 -6e-7,8.035443 z\" style=\"fill:#000000;fill-opacity:1;fill-rule:evenodd;stroke:#000000;stroke-width:0.625;stroke-linejoin:round;stroke-opacity:1\" id=\"path879\"/>\n",
       "    </marker>\n",
       "    <marker style=\"overflow:visible\" id=\"marker1361\" refX=\"0\" refY=\"0\" orient=\"auto\" inkscape:stockid=\"Arrow2Lend\" inkscape:isstock=\"true\" inkscape:collect=\"always\">\n",
       "      <path transform=\"matrix(-1.1,0,0,-1.1,-1.1,0)\" d=\"M 8.7185878,4.0337352 -2.2072895,0.01601326 8.7185884,-4.0017078 c -1.7454984,2.3720609 -1.7354408,5.6174519 -6e-7,8.035443 z\" style=\"fill:#000000;fill-opacity:1;fill-rule:evenodd;stroke:#000000;stroke-width:0.625;stroke-linejoin:round;stroke-opacity:1\" id=\"path1359\"/>\n",
       "    </marker>\n",
       "    <marker style=\"overflow:visible\" id=\"marker1297\" refX=\"0\" refY=\"0\" orient=\"auto\" inkscape:stockid=\"Arrow2Lend\" inkscape:isstock=\"true\" inkscape:collect=\"always\">\n",
       "      <path transform=\"matrix(-1.1,0,0,-1.1,-1.1,0)\" d=\"M 8.7185878,4.0337352 -2.2072895,0.01601326 8.7185884,-4.0017078 c -1.7454984,2.3720609 -1.7354408,5.6174519 -6e-7,8.035443 z\" style=\"fill:#000000;fill-opacity:1;fill-rule:evenodd;stroke:#000000;stroke-width:0.625;stroke-linejoin:round;stroke-opacity:1\" id=\"path1295\"/>\n",
       "    </marker>\n",
       "    <marker style=\"overflow:visible\" id=\"marker1241\" refX=\"0\" refY=\"0\" orient=\"auto\" inkscape:stockid=\"Arrow2Lend\" inkscape:isstock=\"true\" inkscape:collect=\"always\">\n",
       "      <path transform=\"matrix(-1.1,0,0,-1.1,-1.1,0)\" d=\"M 8.7185878,4.0337352 -2.2072895,0.01601326 8.7185884,-4.0017078 c -1.7454984,2.3720609 -1.7354408,5.6174519 -6e-7,8.035443 z\" style=\"fill:#000000;fill-opacity:1;fill-rule:evenodd;stroke:#000000;stroke-width:0.625;stroke-linejoin:round;stroke-opacity:1\" id=\"path1239\"/>\n",
       "    </marker>\n",
       "    <marker style=\"overflow:visible\" id=\"marker1193\" refX=\"0\" refY=\"0\" orient=\"auto\" inkscape:stockid=\"Arrow2Lend\" inkscape:isstock=\"true\" inkscape:collect=\"always\">\n",
       "      <path transform=\"matrix(-1.1,0,0,-1.1,-1.1,0)\" d=\"M 8.7185878,4.0337352 -2.2072895,0.01601326 8.7185884,-4.0017078 c -1.7454984,2.3720609 -1.7354408,5.6174519 -6e-7,8.035443 z\" style=\"fill:#000000;fill-opacity:1;fill-rule:evenodd;stroke:#000000;stroke-width:0.625;stroke-linejoin:round;stroke-opacity:1\" id=\"path1191\"/>\n",
       "    </marker>\n",
       "    <marker style=\"overflow:visible\" id=\"marker1147\" refX=\"0\" refY=\"0\" orient=\"auto\" inkscape:stockid=\"Arrow2Lend\" inkscape:isstock=\"true\" inkscape:collect=\"always\">\n",
       "      <path transform=\"matrix(-1.1,0,0,-1.1,-1.1,0)\" d=\"M 8.7185878,4.0337352 -2.2072895,0.01601326 8.7185884,-4.0017078 c -1.7454984,2.3720609 -1.7354408,5.6174519 -6e-7,8.035443 z\" style=\"fill:#000000;fill-opacity:1;fill-rule:evenodd;stroke:#000000;stroke-width:0.625;stroke-linejoin:round;stroke-opacity:1\" id=\"path1145\"/>\n",
       "    </marker>\n",
       "    <marker style=\"overflow:visible\" id=\"Arrow2Lend\" refX=\"0\" refY=\"0\" orient=\"auto\" inkscape:stockid=\"Arrow2Lend\" inkscape:isstock=\"true\" inkscape:collect=\"always\">\n",
       "      <path transform=\"matrix(-1.1,0,0,-1.1,-1.1,0)\" d=\"M 8.7185878,4.0337352 -2.2072895,0.01601326 8.7185884,-4.0017078 c -1.7454984,2.3720609 -1.7354408,5.6174519 -6e-7,8.035443 z\" style=\"fill:#000000;fill-opacity:1;fill-rule:evenodd;stroke:#000000;stroke-width:0.625;stroke-linejoin:round;stroke-opacity:1\" id=\"path882\"/>\n",
       "    </marker>\n",
       "  </defs>\n",
       "  <sodipodi:namedview id=\"base\" pagecolor=\"#ffffff\" bordercolor=\"#666666\" borderopacity=\"1.0\" inkscape:pageopacity=\"0.0\" inkscape:pageshadow=\"2\" inkscape:zoom=\"2.0770296\" inkscape:cx=\"254.45641\" inkscape:cy=\"192.57798\" inkscape:document-units=\"mm\" inkscape:current-layer=\"layer1\" inkscape:document-rotation=\"0\" showgrid=\"false\" showborder=\"false\" inkscape:window-width=\"1024\" inkscape:window-height=\"705\" inkscape:window-x=\"1912\" inkscape:window-y=\"-8\" inkscape:window-maximized=\"1\"/>\n",
       "  <metadata id=\"metadata5\">\n",
       "    <rdf:RDF>\n",
       "      <cc:Work rdf:about=\"\">\n",
       "        <dc:format>image/svg+xml</dc:format>\n",
       "        <dc:type rdf:resource=\"http://purl.org/dc/dcmitype/StillImage\"/>\n",
       "        <dc:title/>\n",
       "      </cc:Work>\n",
       "    </rdf:RDF>\n",
       "  </metadata>\n",
       "  <g inkscape:label=\"Layer 1\" inkscape:groupmode=\"layer\" id=\"layer1\" transform=\"translate(-53.435731,-91.462748)\">\n",
       "    <path style=\"fill:none;stroke:#000000;stroke-width:0.264583px;stroke-linecap:butt;stroke-linejoin:miter;stroke-opacity:1\" d=\"M 60.907612,96.588563 V 144.08741\" id=\"path10\"/>\n",
       "    <rect style=\"fill:#ffffff;fill-opacity:1;stroke:#000000;stroke-width:0.638739;stroke-miterlimit:4;stroke-dasharray:none;stroke-dashoffset:0;stroke-opacity:1\" id=\"rect12\" width=\"76.181305\" height=\"10.288285\" x=\"60.876976\" y=\"114.73931\" ry=\"2.7239656e-14\"/>\n",
       "    <path style=\"fill:none;stroke:#000000;stroke-width:0.264583px;stroke-linecap:butt;stroke-linejoin:miter;stroke-opacity:1\" d=\"m 60.907612,96.588563 -7.405735,4.275707\" id=\"path14\"/>\n",
       "    <path style=\"fill:none;stroke:#000000;stroke-width:0.264583px;stroke-linecap:butt;stroke-linejoin:miter;stroke-opacity:1\" d=\"m 60.907612,101.35107 -7.405735,4.27573\" id=\"path18\"/>\n",
       "    <path style=\"fill:none;stroke:#000000;stroke-width:0.264583px;stroke-linecap:butt;stroke-linejoin:miter;stroke-opacity:1\" d=\"m 60.907612,106.1136 -7.405735,4.27573\" id=\"path20\"/>\n",
       "    <path style=\"fill:none;stroke:#000000;stroke-width:0.264583px;stroke-linecap:butt;stroke-linejoin:miter;stroke-opacity:1\" d=\"m 60.907612,111.4053 -7.405735,4.27573\" id=\"path22\"/>\n",
       "    <path style=\"fill:none;stroke:#000000;stroke-width:0.264583px;stroke-linecap:butt;stroke-linejoin:miter;stroke-opacity:1\" d=\"m 60.907612,117.22617 -7.405735,4.27573\" id=\"path24\"/>\n",
       "    <path style=\"fill:none;stroke:#000000;stroke-width:0.264583px;stroke-linecap:butt;stroke-linejoin:miter;stroke-opacity:1\" d=\"m 60.907612,123.04704 -7.405735,4.27573\" id=\"path26\"/>\n",
       "    <path style=\"fill:none;stroke:#000000;stroke-width:0.264583px;stroke-linecap:butt;stroke-linejoin:miter;stroke-opacity:1\" d=\"m 60.907612,128.86791 -7.405735,4.27573\" id=\"path28\"/>\n",
       "    <path style=\"fill:none;stroke:#000000;stroke-width:0.264583px;stroke-linecap:butt;stroke-linejoin:miter;stroke-opacity:1\" d=\"m 60.907612,134.68878 -7.405735,4.27573\" id=\"path30\"/>\n",
       "    <path style=\"fill:none;stroke:#000000;stroke-width:0.264583px;stroke-linecap:butt;stroke-linejoin:miter;stroke-opacity:1\" d=\"m 60.907612,139.45131 -7.405735,4.27573\" id=\"path32\"/>\n",
       "    <path style=\"fill:none;stroke:#000000;stroke-width:0.264583px;stroke-linecap:butt;stroke-linejoin:miter;stroke-opacity:1\" d=\"M 60.907612,101.35107 H 101.90835\" id=\"path34\"/>\n",
       "    <path style=\"fill:none;stroke:#000000;stroke-width:0.265;stroke-linecap:butt;stroke-linejoin:miter;stroke-miterlimit:4;stroke-dasharray:none;stroke-opacity:1;marker-end:url(#Arrow2Lend)\" d=\"m 101.90835,101.35107 v 13.04106\" id=\"path36\"/>\n",
       "    <path style=\"fill:none;stroke:#000000;stroke-width:0.265;stroke-linecap:butt;stroke-linejoin:miter;stroke-miterlimit:4;stroke-dasharray:none;stroke-opacity:1;marker-end:url(#marker1147)\" d=\"m 95.558337,101.35107 v 13.04106\" id=\"path1143\"/>\n",
       "    <path style=\"fill:none;stroke:#000000;stroke-width:0.265;stroke-linecap:butt;stroke-linejoin:miter;stroke-miterlimit:4;stroke-dasharray:none;stroke-opacity:1;marker-end:url(#marker1193)\" d=\"m 88.149999,101.35107 v 13.04106\" id=\"path1189\"/>\n",
       "    <path style=\"fill:none;stroke:#000000;stroke-width:0.265;stroke-linecap:butt;stroke-linejoin:miter;stroke-miterlimit:4;stroke-dasharray:none;stroke-opacity:1;marker-end:url(#marker1241)\" d=\"m 79.683327,101.35107 v 13.04106\" id=\"path1237\"/>\n",
       "    <path style=\"fill:none;stroke:#000000;stroke-width:0.265;stroke-linecap:butt;stroke-linejoin:miter;stroke-miterlimit:4;stroke-dasharray:none;stroke-opacity:1;marker-end:url(#marker1297)\" d=\"m 73.86249,101.35107 v 13.04106\" id=\"path1293\"/>\n",
       "    <path style=\"fill:none;stroke:#000000;stroke-width:0.265;stroke-linecap:butt;stroke-linejoin:miter;stroke-miterlimit:4;stroke-dasharray:none;stroke-opacity:1;marker-end:url(#marker1361)\" d=\"m 68.041653,101.35107 v 13.04106\" id=\"path1357\"/>\n",
       "    <path style=\"fill:none;stroke:#000000;stroke-width:0.264583px;stroke-linecap:butt;stroke-linejoin:miter;stroke-opacity:1;marker-start:url(#Arrow2Lstart)\" d=\"M 137.05829,114.73931 V 91.462748\" id=\"path1429\"/>\n",
       "    <path style=\"fill:none;stroke:#000000;stroke-width:0.264583px;stroke-linecap:butt;stroke-linejoin:miter;stroke-opacity:1;marker-end:url(#marker1487)\" d=\"m 97.195093,125.0925 c 1.34762,1.06633 2.753079,2.19886 6.369277,2.29294 2.98719,-1.13748 5.43634,-3.26765 4.96803,-7.26097 -0.64644,-3.95524 0.49652,-5.02268 -4.71326,-7.89789 -2.54771,0.13519 -7.133589,0.50127 -8.025287,6.75143\" id=\"path1483\" sodipodi:nodetypes=\"ccccc\"/>\n",
       "    <g id=\"g1567\" transform=\"translate(78.087277,-10.06345)\">\n",
       "      <path style=\"fill:none;stroke:#000000;stroke-width:0.264583px;stroke-linecap:butt;stroke-linejoin:miter;stroke-opacity:1\" d=\"m 22.674609,127.64021 3.312021,4.20372\" id=\"path1561\"/>\n",
       "      <path style=\"fill:none;stroke:#000000;stroke-width:0.264583px;stroke-linecap:butt;stroke-linejoin:miter;stroke-opacity:1\" d=\"m 22.547223,131.71655 3.439407,-3.56679\" id=\"path1563\"/>\n",
       "    </g>\n",
       "    <path style=\"fill:none;stroke:#000000;stroke-width:0.264583px;stroke-linecap:butt;stroke-linejoin:miter;stroke-opacity:1\" d=\"m 102.92744,129.93315 v 7.26097\" id=\"path1569\"/>\n",
       "    <path style=\"fill:none;stroke:#000000;stroke-width:0.264583px;stroke-linecap:butt;stroke-linejoin:miter;stroke-opacity:1\" d=\"m 137.06674,127.64021 v 8.91699\" id=\"path1571\"/>\n",
       "    <path style=\"fill:none;stroke:#000000;stroke-width:0.264583px;stroke-linecap:butt;stroke-linejoin:miter;stroke-opacity:1;marker-start:url(#marker1647);marker-end:url(#marker1577)\" d=\"M 102.80005,134.64641 H 60.890242\" id=\"path1573\"/>\n",
       "    <path style=\"fill:none;stroke:#000000;stroke-width:0.264583px;stroke-linecap:butt;stroke-linejoin:miter;stroke-opacity:1;marker-start:url(#marker1819);marker-end:url(#marker1737)\" d=\"m 102.80005,134.64641 h 34.39407\" id=\"path1733\"/>\n",
       "    <text xml:space=\"preserve\" style=\"font-style:normal;font-variant:normal;font-weight:normal;font-stretch:normal;font-size:7.97257px;line-height:1.25;font-family:sans-serif;-inkscape-font-specification:sans-serif;letter-spacing:0px;word-spacing:0px;fill:#000000;fill-opacity:1;stroke:none;stroke-width:0.213551\" x=\"77.764717\" y=\"132.73563\" id=\"text1919\"><tspan sodipodi:role=\"line\" id=\"tspan1917\" x=\"77.764717\" y=\"132.73563\" style=\"stroke-width:0.213551\">L<tspan style=\"font-size:65%;baseline-shift:sub\" id=\"tspan1941\">1</tspan></tspan></text>\n",
       "    <text xml:space=\"preserve\" style=\"font-style:normal;font-variant:normal;font-weight:normal;font-stretch:normal;font-size:7.97257px;line-height:1.25;font-family:sans-serif;-inkscape-font-specification:sans-serif;letter-spacing:0px;word-spacing:0px;fill:#000000;fill-opacity:1;stroke:none;stroke-width:0.213551\" x=\"114.45172\" y=\"133.24516\" id=\"text1923\"><tspan sodipodi:role=\"line\" id=\"tspan1921\" x=\"114.45172\" y=\"133.24516\" style=\"stroke-width:0.213551\">L<tspan style=\"font-size:65%;baseline-shift:sub\" id=\"tspan1943\">2</tspan></tspan></text>\n",
       "    <text xml:space=\"preserve\" style=\"font-style:normal;font-variant:normal;font-weight:normal;font-stretch:normal;font-size:7.97257px;line-height:1.25;font-family:sans-serif;-inkscape-font-specification:sans-serif;letter-spacing:0px;word-spacing:0px;fill:#000000;fill-opacity:1;stroke:none;stroke-width:0.213551\" x=\"110.37539\" y=\"121.65309\" id=\"text1927\"><tspan sodipodi:role=\"line\" id=\"tspan1925\" x=\"110.37539\" y=\"121.65309\" style=\"stroke-width:0.213551\">M</tspan></text>\n",
       "    <text xml:space=\"preserve\" style=\"font-style:normal;font-variant:normal;font-weight:normal;font-stretch:normal;font-size:7.97257px;line-height:1.25;font-family:sans-serif;-inkscape-font-specification:sans-serif;letter-spacing:0px;word-spacing:0px;fill:#000000;fill-opacity:1;stroke:none;stroke-width:0.213551\" x=\"78.019485\" y=\"99.742798\" id=\"text1931\"><tspan sodipodi:role=\"line\" id=\"tspan1929\" x=\"78.019485\" y=\"99.742798\" style=\"stroke-width:0.213551\">q</tspan></text>\n",
       "    <text xml:space=\"preserve\" style=\"font-style:normal;font-variant:normal;font-weight:normal;font-stretch:normal;font-size:7.97257px;line-height:1.25;font-family:sans-serif;-inkscape-font-specification:sans-serif;letter-spacing:0px;word-spacing:0px;fill:#000000;fill-opacity:1;stroke:none;stroke-width:0.213551\" x=\"138.52757\" y=\"102.54528\" id=\"text1935\"><tspan sodipodi:role=\"line\" id=\"tspan1933\" x=\"138.52757\" y=\"102.54528\" style=\"stroke-width:0.213551\">F</tspan></text>\n",
       "    <text xml:space=\"preserve\" style=\"font-style:normal;font-variant:normal;font-weight:normal;font-stretch:normal;font-size:7.97257px;line-height:1.25;font-family:sans-serif;-inkscape-font-specification:sans-serif;letter-spacing:0px;word-spacing:0px;fill:#000000;fill-opacity:1;stroke:none;stroke-width:0.213551\" x=\"64.134476\" y=\"153.24469\" id=\"text1939\"><tspan sodipodi:role=\"line\" id=\"tspan1937\" x=\"64.134476\" y=\"153.24469\" style=\"stroke-width:0.213551\">L<tspan style=\"font-size:65%;baseline-shift:sub\" id=\"tspan1961\">1</tspan> = 5m</tspan></text>\n",
       "    <text xml:space=\"preserve\" style=\"font-style:normal;font-variant:normal;font-weight:normal;font-stretch:normal;font-size:7.97257px;line-height:1.25;font-family:sans-serif;-inkscape-font-specification:sans-serif;letter-spacing:0px;word-spacing:0px;fill:#000000;fill-opacity:1;stroke:none;stroke-width:0.213551\" x=\"64.134476\" y=\"161.65213\" id=\"text1947\"><tspan sodipodi:role=\"line\" id=\"tspan1945\" x=\"64.134476\" y=\"161.65213\" style=\"stroke-width:0.213551\">L<tspan style=\"font-size:65%;baseline-shift:sub\" id=\"tspan1963\">2</tspan> = 4m</tspan></text>\n",
       "    <text xml:space=\"preserve\" style=\"font-style:normal;font-variant:normal;font-weight:normal;font-stretch:normal;font-size:7.97257px;line-height:1.25;font-family:sans-serif;-inkscape-font-specification:sans-serif;letter-spacing:0px;word-spacing:0px;fill:#000000;fill-opacity:1;stroke:none;stroke-width:0.213551\" x=\"64.261864\" y=\"170.56911\" id=\"text1951\"><tspan sodipodi:role=\"line\" id=\"tspan1949\" x=\"64.261864\" y=\"170.56911\" style=\"stroke-width:0.213551\">M = 50kN.m</tspan></text>\n",
       "    <text xml:space=\"preserve\" style=\"font-style:normal;font-variant:normal;font-weight:normal;font-stretch:normal;font-size:7.97257px;line-height:1.25;font-family:sans-serif;-inkscape-font-specification:sans-serif;letter-spacing:0px;word-spacing:0px;fill:#000000;fill-opacity:1;stroke:none;stroke-width:0.213551\" x=\"124.64256\" y=\"153.62683\" id=\"text1955\"><tspan sodipodi:role=\"line\" id=\"tspan1953\" x=\"124.64256\" y=\"153.62683\" style=\"stroke-width:0.213551\">M = 50kN.m</tspan></text>\n",
       "    <text xml:space=\"preserve\" style=\"font-style:normal;font-variant:normal;font-weight:normal;font-stretch:normal;font-size:7.97257px;line-height:1.25;font-family:sans-serif;-inkscape-font-specification:sans-serif;letter-spacing:0px;word-spacing:0px;fill:#000000;fill-opacity:1;stroke:none;stroke-width:0.213551\" x=\"125.02473\" y=\"162.28905\" id=\"text1959\"><tspan sodipodi:role=\"line\" id=\"tspan1957\" x=\"125.02473\" y=\"162.28905\" style=\"stroke-width:0.213551\">F = 12kN</tspan></text>\n",
       "    <text xml:space=\"preserve\" style=\"font-style:normal;font-variant:normal;font-weight:normal;font-stretch:normal;font-size:7.97257px;line-height:1.25;font-family:sans-serif;-inkscape-font-specification:sans-serif;letter-spacing:0px;word-spacing:0px;fill:#000000;fill-opacity:1;stroke:none;stroke-width:0.213551\" x=\"124.89734\" y=\"170.56911\" id=\"text979\"><tspan sodipodi:role=\"line\" id=\"tspan977\" x=\"124.89734\" y=\"170.56911\" style=\"stroke-width:0.213551\">q = 8kN</tspan></text>\n",
       "  </g>\n",
       "</svg>"
      ],
      "text/plain": [
       "<IPython.core.display.SVG object>"
      ]
     },
     "execution_count": 59,
     "metadata": {},
     "output_type": "execute_result"
    }
   ],
   "source": [
    "from IPython.core.display import SVG\n",
    "SVG(filename='viga1.svg')"
   ]
  },
  {
   "cell_type": "code",
   "execution_count": 60,
   "metadata": {},
   "outputs": [],
   "source": [
    "import sympy.physics.continuum_mechanics as rm"
   ]
  },
  {
   "cell_type": "code",
   "execution_count": 61,
   "metadata": {},
   "outputs": [],
   "source": [
    "E,I = sy.symbols('E I')"
   ]
  },
  {
   "cell_type": "code",
   "execution_count": 62,
   "metadata": {},
   "outputs": [],
   "source": [
    "viga1 = rm.Beam(9,E,I)"
   ]
  },
  {
   "cell_type": "code",
   "execution_count": 63,
   "metadata": {},
   "outputs": [
    {
     "data": {
      "text/latex": [
       "$\\displaystyle - 12 {\\left\\langle x - 9 \\right\\rangle}^{-1}$"
      ],
      "text/plain": [
       "-12*SingularityFunction(x, 9, -1)"
      ]
     },
     "execution_count": 63,
     "metadata": {},
     "output_type": "execute_result"
    }
   ],
   "source": [
    "viga1.apply_load(-12,9,-1)\n",
    "viga1.load"
   ]
  },
  {
   "cell_type": "code",
   "execution_count": 64,
   "metadata": {},
   "outputs": [
    {
     "data": {
      "text/latex": [
       "$\\displaystyle - 8 {\\left\\langle x \\right\\rangle}^{0} + 50 {\\left\\langle x - 5 \\right\\rangle}^{-2} + 8 {\\left\\langle x - 5 \\right\\rangle}^{0} - 12 {\\left\\langle x - 9 \\right\\rangle}^{-1}$"
      ],
      "text/plain": [
       "-8*SingularityFunction(x, 0, 0) + 50*SingularityFunction(x, 5, -2) + 8*SingularityFunction(x, 5, 0) - 12*SingularityFunction(x, 9, -1)"
      ]
     },
     "execution_count": 64,
     "metadata": {},
     "output_type": "execute_result"
    }
   ],
   "source": [
    "viga1.apply_load(50,5,-2)\n",
    "viga1.apply_load(-8,0,0,end=5)\n",
    "viga1.load"
   ]
  },
  {
   "cell_type": "markdown",
   "metadata": {},
   "source": [
    "Condições Contorno"
   ]
  },
  {
   "cell_type": "code",
   "execution_count": 65,
   "metadata": {},
   "outputs": [],
   "source": [
    "viga1.bc_slope.append((0,0))\n",
    "viga1.bc_deflection.append((0,0))"
   ]
  },
  {
   "cell_type": "markdown",
   "metadata": {},
   "source": [
    "Reações"
   ]
  },
  {
   "cell_type": "code",
   "execution_count": 66,
   "metadata": {},
   "outputs": [],
   "source": [
    "R,M_r = sy.symbols('R M_r')"
   ]
  },
  {
   "cell_type": "code",
   "execution_count": 67,
   "metadata": {},
   "outputs": [],
   "source": [
    "viga1.apply_load(R,0,-1)\n",
    "viga1.apply_load(M_r,0,-2)"
   ]
  },
  {
   "cell_type": "code",
   "execution_count": 68,
   "metadata": {},
   "outputs": [
    {
     "data": {
      "text/latex": [
       "$\\displaystyle M_{r} {\\left\\langle x \\right\\rangle}^{-2} + R {\\left\\langle x \\right\\rangle}^{-1} - 8 {\\left\\langle x \\right\\rangle}^{0} + 50 {\\left\\langle x - 5 \\right\\rangle}^{-2} + 8 {\\left\\langle x - 5 \\right\\rangle}^{0} - 12 {\\left\\langle x - 9 \\right\\rangle}^{-1}$"
      ],
      "text/plain": [
       "M_r*SingularityFunction(x, 0, -2) + R*SingularityFunction(x, 0, -1) - 8*SingularityFunction(x, 0, 0) + 50*SingularityFunction(x, 5, -2) + 8*SingularityFunction(x, 5, 0) - 12*SingularityFunction(x, 9, -1)"
      ]
     },
     "execution_count": 68,
     "metadata": {},
     "output_type": "execute_result"
    }
   ],
   "source": [
    "viga1.load"
   ]
  },
  {
   "cell_type": "markdown",
   "metadata": {},
   "source": [
    "Resolvendo as reações na viga"
   ]
  },
  {
   "cell_type": "code",
   "execution_count": 69,
   "metadata": {},
   "outputs": [
    {
     "data": {
      "text/plain": [
       "{R: 52, M_r: -258}"
      ]
     },
     "execution_count": 69,
     "metadata": {},
     "output_type": "execute_result"
    }
   ],
   "source": [
    "viga1.solve_for_reaction_loads(R,M_r)\n",
    "viga1.reaction_loads"
   ]
  },
  {
   "cell_type": "code",
   "execution_count": 70,
   "metadata": {},
   "outputs": [
    {
     "data": {
      "text/latex": [
       "$\\displaystyle - 258 {\\left\\langle x \\right\\rangle}^{-2} + 52 {\\left\\langle x \\right\\rangle}^{-1} - 8 {\\left\\langle x \\right\\rangle}^{0} + 50 {\\left\\langle x - 5 \\right\\rangle}^{-2} + 8 {\\left\\langle x - 5 \\right\\rangle}^{0} - 12 {\\left\\langle x - 9 \\right\\rangle}^{-1}$"
      ],
      "text/plain": [
       "-258*SingularityFunction(x, 0, -2) + 52*SingularityFunction(x, 0, -1) - 8*SingularityFunction(x, 0, 0) + 50*SingularityFunction(x, 5, -2) + 8*SingularityFunction(x, 5, 0) - 12*SingularityFunction(x, 9, -1)"
      ]
     },
     "execution_count": 70,
     "metadata": {},
     "output_type": "execute_result"
    }
   ],
   "source": [
    "viga1.load"
   ]
  },
  {
   "cell_type": "code",
   "execution_count": 71,
   "metadata": {},
   "outputs": [
    {
     "data": {
      "text/latex": [
       "$\\displaystyle - 258 {\\left\\langle x \\right\\rangle}^{0} + 52 {\\left\\langle x \\right\\rangle}^{1} - 4 {\\left\\langle x \\right\\rangle}^{2} + 50 {\\left\\langle x - 5 \\right\\rangle}^{0} + 4 {\\left\\langle x - 5 \\right\\rangle}^{2} - 12 {\\left\\langle x - 9 \\right\\rangle}^{1}$"
      ],
      "text/plain": [
       "-258*SingularityFunction(x, 0, 0) + 52*SingularityFunction(x, 0, 1) - 4*SingularityFunction(x, 0, 2) + 50*SingularityFunction(x, 5, 0) + 4*SingularityFunction(x, 5, 2) - 12*SingularityFunction(x, 9, 1)"
      ]
     },
     "execution_count": 71,
     "metadata": {},
     "output_type": "execute_result"
    }
   ],
   "source": [
    "viga1.bending_moment()"
   ]
  },
  {
   "cell_type": "code",
   "execution_count": 72,
   "metadata": {},
   "outputs": [
    {
     "name": "stderr",
     "output_type": "stream",
     "text": [
      "C:\\Users\\Paulo Victor Gomes\\anaconda3\\lib\\site-packages\\sympy\\plotting\\plot.py:1411: RuntimeWarning: invalid value encountered in double_scalars\n",
      "  cos_theta = dot_product / (vector_a_norm * vector_b_norm)\n"
     ]
    },
    {
     "data": {
      "image/png": "[encoded data removed]",
      "text/plain": [
       "<Figure size 900x600 with 1 Axes>"
      ]
     },
     "metadata": {
      "needs_background": "light"
     },
     "output_type": "display_data"
    },
    {
     "data": {
      "text/plain": [
       "<sympy.plotting.plot.Plot at 0x1dcf0ac1940>"
      ]
     },
     "execution_count": 72,
     "metadata": {},
     "output_type": "execute_result"
    }
   ],
   "source": [
    "viga1.plot_shear_force()"
   ]
  },
  {
   "cell_type": "code",
   "execution_count": 73,
   "metadata": {},
   "outputs": [
    {
     "data": {
      "image/png": "[encoded data removed]",
      "text/plain": [
       "<Figure size 900x600 with 1 Axes>"
      ]
     },
     "metadata": {
      "needs_background": "light"
     },
     "output_type": "display_data"
    },
    {
     "data": {
      "text/plain": [
       "<sympy.plotting.plot.Plot at 0x1dcf0bea370>"
      ]
     },
     "execution_count": 73,
     "metadata": {},
     "output_type": "execute_result"
    }
   ],
   "source": [
    "viga1.plot_bending_moment()"
   ]
  },
  {
   "cell_type": "code",
   "execution_count": 74,
   "metadata": {},
   "outputs": [
    {
     "data": {
      "text/latex": [
       "$\\displaystyle \\frac{- 258 {\\left\\langle x \\right\\rangle}^{1} + 26 {\\left\\langle x \\right\\rangle}^{2} - \\frac{4 {\\left\\langle x \\right\\rangle}^{3}}{3} + 50 {\\left\\langle x - 5 \\right\\rangle}^{1} + \\frac{4 {\\left\\langle x - 5 \\right\\rangle}^{3}}{3} - 6 {\\left\\langle x - 9 \\right\\rangle}^{2}}{E I}$"
      ],
      "text/plain": [
       "(-258*SingularityFunction(x, 0, 1) + 26*SingularityFunction(x, 0, 2) - 4*SingularityFunction(x, 0, 3)/3 + 50*SingularityFunction(x, 5, 1) + 4*SingularityFunction(x, 5, 3)/3 - 6*SingularityFunction(x, 9, 2))/(E*I)"
      ]
     },
     "execution_count": 74,
     "metadata": {},
     "output_type": "execute_result"
    }
   ],
   "source": [
    "viga1.slope()"
   ]
  },
  {
   "cell_type": "code",
   "execution_count": 75,
   "metadata": {},
   "outputs": [
    {
     "data": {
      "text/latex": [
       "$\\displaystyle \\frac{- 129 {\\left\\langle x \\right\\rangle}^{2} + \\frac{26 {\\left\\langle x \\right\\rangle}^{3}}{3} - \\frac{{\\left\\langle x \\right\\rangle}^{4}}{3} + 25 {\\left\\langle x - 5 \\right\\rangle}^{2} + \\frac{{\\left\\langle x - 5 \\right\\rangle}^{4}}{3} - 2 {\\left\\langle x - 9 \\right\\rangle}^{3}}{E I}$"
      ],
      "text/plain": [
       "(-129*SingularityFunction(x, 0, 2) + 26*SingularityFunction(x, 0, 3)/3 - SingularityFunction(x, 0, 4)/3 + 25*SingularityFunction(x, 5, 2) + SingularityFunction(x, 5, 4)/3 - 2*SingularityFunction(x, 9, 3))/(E*I)"
      ]
     },
     "execution_count": 75,
     "metadata": {},
     "output_type": "execute_result"
    }
   ],
   "source": [
    "viga1.deflection()"
   ]
  },
  {
   "cell_type": "code",
   "execution_count": 76,
   "metadata": {},
   "outputs": [],
   "source": [
    "parametros = {E:200E9, I:3.25E-6}"
   ]
  },
  {
   "cell_type": "code",
   "execution_count": 77,
   "metadata": {},
   "outputs": [
    {
     "data": {
      "image/png": "[encoded data removed]",
      "text/plain": [
       "<Figure size 900x600 with 1 Axes>"
      ]
     },
     "metadata": {
      "needs_background": "light"
     },
     "output_type": "display_data"
    },
    {
     "data": {
      "text/plain": [
       "<sympy.plotting.plot.Plot at 0x1dcf0c03100>"
      ]
     },
     "execution_count": 77,
     "metadata": {},
     "output_type": "execute_result"
    }
   ],
   "source": [
    "viga1.plot_slope(subs=parametros)"
   ]
  },
  {
   "cell_type": "code",
   "execution_count": 78,
   "metadata": {},
   "outputs": [
    {
     "data": {
      "image/png": "[encoded data removed]",
      "text/plain": [
       "<Figure size 900x600 with 1 Axes>"
      ]
     },
     "metadata": {
      "needs_background": "light"
     },
     "output_type": "display_data"
    },
    {
     "data": {
      "text/plain": [
       "<sympy.plotting.plot.Plot at 0x1dcf0bea760>"
      ]
     },
     "execution_count": 78,
     "metadata": {},
     "output_type": "execute_result"
    }
   ],
   "source": [
    "viga1.plot_deflection(subs=parametros)"
   ]
  },
  {
   "cell_type": "code",
   "execution_count": null,
   "metadata": {},
   "outputs": [],
   "source": []
  }
 ],
 "metadata": {
  "kernelspec": {
   "display_name": "Python 3",
   "language": "python",
   "name": "python3"
  },
  "language_info": {
   "codemirror_mode": {
    "name": "ipython",
    "version": 3
   },
   "file_extension": ".py",
   "mimetype": "text/x-python",
   "name": "python",
   "nbconvert_exporter": "python",
   "pygments_lexer": "ipython3",
   "version": "3.8.3"
  }
 },
 "nbformat": 4,
 "nbformat_minor": 4
}
